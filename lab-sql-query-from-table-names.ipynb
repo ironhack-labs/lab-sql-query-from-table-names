{
 "cells": [
  {
   "cell_type": "markdown",
   "id": "00a57394-53dd-47cd-a5e7-6e7122bbb0f6",
   "metadata": {},
   "source": [
    "# SQL query from table names"
   ]
  },
  {
   "cell_type": "markdown",
   "id": "86bc2813-763c-49f2-9f5d-e1f87a20556f",
   "metadata": {
    "id": "86bc2813-763c-49f2-9f5d-e1f87a20556f"
   },
   "source": [
    "In This notebook we are going to test if using just the name of the table, and a shord definition of its contect we can use a model like GTP3.5-Turbo to select which tables are necessary to create a SQL Order to answer the user petition."
   ]
  },
  {
   "cell_type": "code",
   "execution_count": 51,
   "id": "800431e0",
   "metadata": {},
   "outputs": [],
   "source": [
    "from openai import OpenAI\n",
    "import os\n",
    "from dotenv import load_dotenv, find_dotenv\n",
    "_ = load_dotenv(find_dotenv())\n",
    "\n"
   ]
  },
  {
   "cell_type": "code",
   "execution_count": 52,
   "id": "e480bbfb-9a80-4ea6-b792-067e63ae3148",
   "metadata": {
    "id": "e480bbfb-9a80-4ea6-b792-067e63ae3148"
   },
   "outputs": [],
   "source": [
    "#Function to call the model.\n",
    "def return_OAI(user_message):\n",
    "    client = OpenAI(\n",
    "    # This is the default and can be omitted\n",
    "    api_key=\"\",\n",
    ")\n",
    "    context = []\n",
    "    context.append({'role':'system', \"content\": user_message})\n",
    "\n",
    "    response = client.chat.completions.create(\n",
    "            model=\"gpt-3.5-turbo\",\n",
    "            messages=context,\n",
    "            temperature=0,\n",
    "        )\n",
    "\n",
    "    return (response.choices[0].message.content)"
   ]
  },
  {
   "cell_type": "code",
   "execution_count": 63,
   "id": "6d5d2bdc-d822-4ed8-815e-b3f223730f15",
   "metadata": {
    "id": "6d5d2bdc-d822-4ed8-815e-b3f223730f15",
    "outputId": "61068bf0-41e3-40d9-b453-b76da5b0f086"
   },
   "outputs": [
    {
     "name": "stdout",
     "output_type": "stream",
     "text": [
      "                  table                                         definition\n",
      "0               Clothes  List of clothes required for different climate...\n",
      "1         Documentation  Documents needed for the trip, such as passpor...\n",
      "2              Vaccines  Vaccination records and required vaccinations ...\n",
      "3  Doctor Phone Numbers          Phone numbers of my neighborhoods Doctors\n",
      "4               Tickets  Details of travel tickets including flights, t...\n",
      "5           Accessories  List of accessories to bring, such as chargers...\n",
      "6            Insurances  Insurance policies for travel, health, or belo...\n",
      "7             Groceries                     List of groceries for the week\n"
     ]
    }
   ],
   "source": [
    "#Definition of the tables.\n",
    "import pandas as pd\n",
    "\n",
    "# Table and definitions sample\n",
    "data = {'table': ['Clothes', 'Documentation', 'Vaccines','Doctor Phone Numbers', 'Tickets', 'Accessories', 'Insurances', 'Groceries'],\n",
    "        'definition': ['List of clothes required for different climates and activities during the trip',\n",
    "        'Documents needed for the trip, such as passport, visa, and travel permits',\n",
    "        'Vaccination records and required vaccinations for visiting certain countries',\n",
    "        'Phone numbers of my neighborhoods Doctors',\n",
    "        'Details of travel tickets including flights, trains, and buses with dates and times',\n",
    "        'List of accessories to bring, such as chargers, travel pillows, and toiletries',\n",
    "        'Insurance policies for travel, health, or belongings in case of any incidents during the trip',\n",
    "        'List of groceries for the week'] }\n",
    "df = pd.DataFrame(data)\n",
    "print(df)"
   ]
  },
  {
   "cell_type": "code",
   "execution_count": 64,
   "id": "009e681c-d95d-4c9c-b044-5bfd76e3ad95",
   "metadata": {
    "id": "009e681c-d95d-4c9c-b044-5bfd76e3ad95"
   },
   "outputs": [],
   "source": [
    "text_tables = '\\n'.join([f\"{row['table']}: {row['definition']}\" for index, row in df.iterrows()])"
   ]
  },
  {
   "cell_type": "code",
   "execution_count": 65,
   "id": "fe03ac25-8d02-4cd1-99a1-be4220c6fd2d",
   "metadata": {
    "id": "fe03ac25-8d02-4cd1-99a1-be4220c6fd2d",
    "outputId": "c1f3aab1-5f26-48fe-fcf9-3780120f5aad"
   },
   "outputs": [
    {
     "name": "stdout",
     "output_type": "stream",
     "text": [
      "Clothes: List of clothes required for different climates and activities during the trip\n",
      "Documentation: Documents needed for the trip, such as passport, visa, and travel permits\n",
      "Vaccines: Vaccination records and required vaccinations for visiting certain countries\n",
      "Doctor Phone Numbers: Phone numbers of my neighborhoods Doctors\n",
      "Tickets: Details of travel tickets including flights, trains, and buses with dates and times\n",
      "Accessories: List of accessories to bring, such as chargers, travel pillows, and toiletries\n",
      "Insurances: Insurance policies for travel, health, or belongings in case of any incidents during the trip\n",
      "Groceries: List of groceries for the week\n"
     ]
    }
   ],
   "source": [
    "print(text_tables)"
   ]
  },
  {
   "cell_type": "code",
   "execution_count": 66,
   "id": "c7e275ae-f20d-4134-b9b6-d8677dfb544c",
   "metadata": {
    "id": "c7e275ae-f20d-4134-b9b6-d8677dfb544c"
   },
   "outputs": [],
   "source": [
    "prompt_question_tables = \"\"\"\n",
    "Given the following tables and their content definitions,\n",
    "###Tables\n",
    "{tables}\n",
    "\n",
    "Tell me which tables would be necessary to query with SQL to address the user's question below.\n",
    "Return the table names in a json format.\n",
    "###User Questyion:\n",
    "{question}\n",
    "\"\"\"\n"
   ]
  },
  {
   "cell_type": "code",
   "execution_count": 67,
   "id": "b1cb5957-2df2-4e5e-9e6a-ace955c9817e",
   "metadata": {
    "id": "b1cb5957-2df2-4e5e-9e6a-ace955c9817e"
   },
   "outputs": [
    {
     "name": "stdout",
     "output_type": "stream",
     "text": [
      "\n",
      "Given the following tables and their content definitions,\n",
      "###Tables\n",
      "Clothes: List of clothes required for different climates and activities during the trip\n",
      "Documentation: Documents needed for the trip, such as passport, visa, and travel permits\n",
      "Vaccines: Vaccination records and required vaccinations for visiting certain countries\n",
      "Doctor Phone Numbers: Phone numbers of my neighborhoods Doctors\n",
      "Tickets: Details of travel tickets including flights, trains, and buses with dates and times\n",
      "Accessories: List of accessories to bring, such as chargers, travel pillows, and toiletries\n",
      "Insurances: Insurance policies for travel, health, or belongings in case of any incidents during the trip\n",
      "Groceries: List of groceries for the week\n",
      "\n",
      "Tell me which tables would be necessary to query with SQL to address the user's question below.\n",
      "Return the table names in a json format.\n",
      "###User Questyion:\n",
      "What would be essential to prepare for a world trip?\n",
      "\n"
     ]
    }
   ],
   "source": [
    "#Creating the prompt, with the user questions and the tables definitions.\n",
    "pqt1 = prompt_question_tables.format(tables=text_tables, question=\"What would be essential to prepare for a world trip?\")\n",
    "print(pqt1)"
   ]
  },
  {
   "cell_type": "code",
   "execution_count": 68,
   "id": "10d30f2b-6c23-4fd6-8038-840fba784cce",
   "metadata": {
    "id": "10d30f2b-6c23-4fd6-8038-840fba784cce",
    "outputId": "9924022c-7b2b-4ec8-e2c2-75bc1c745151",
    "scrolled": true
   },
   "outputs": [
    {
     "name": "stdout",
     "output_type": "stream",
     "text": [
      "```json\n",
      "{\n",
      "    \"Tables\": [\"Clothes\", \"Documentation\", \"Vaccines\", \"Doctor Phone Numbers\", \"Tickets\", \"Accessories\", \"Insurances\", \"Groceries\"]\n",
      "}\n",
      "```\n"
     ]
    }
   ],
   "source": [
    "print(return_OAI(pqt1))"
   ]
  },
  {
   "cell_type": "code",
   "execution_count": 69,
   "id": "57e07083-be8f-4cd0-95bd-c4b909422c6b",
   "metadata": {
    "id": "57e07083-be8f-4cd0-95bd-c4b909422c6b"
   },
   "outputs": [],
   "source": [
    "pqt3 = prompt_question_tables.format(tables=text_tables,\n",
    "                                     question=\"Now please create a SQL query that would give me a string containing the elements we need to get ready.\")"
   ]
  },
  {
   "cell_type": "code",
   "execution_count": 70,
   "id": "a0eeb79e-caf1-4f48-9897-168d95d2ae37",
   "metadata": {
    "id": "a0eeb79e-caf1-4f48-9897-168d95d2ae37",
    "outputId": "81d77115-9cad-4284-a228-5368bb9aa6fb"
   },
   "outputs": [
    {
     "name": "stdout",
     "output_type": "stream",
     "text": [
      "```json\n",
      "{\n",
      "    \"tables\": [\"Clothes\", \"Documentation\", \"Vaccines\", \"Accessories\", \"Insurances\", \"Groceries\"]\n",
      "}\n",
      "```\n"
     ]
    }
   ],
   "source": [
    "print(return_OAI(pqt3))"
   ]
  },
  {
   "cell_type": "markdown",
   "id": "321bb9a2-4937-4e9a-a31b-7049cb8f5aa3",
   "metadata": {
    "id": "321bb9a2-4937-4e9a-a31b-7049cb8f5aa3"
   },
   "source": [
    "# Exercise\n",
    " - Complete the prompts similar to what we did in class. \n",
    "     - Try a few versions if you have time\n",
    "     - Be creative\n",
    " - Write a one page report summarizing your findings.\n",
    "     - Were there variations that didn't work well? i.e., where GPT either hallucinated or wrong\n",
    " - What did you learn?"
   ]
  },
  {
   "cell_type": "markdown",
   "id": "317c5208",
   "metadata": {},
   "source": [
    "Key Findings:\n",
    "\n",
    "Initial Setup:\n",
    "\n",
    "We initially provided the GPT model with several table names related to travel (e.g., \"Clothes,\" \"Documentation,\" \"Vaccines,\" \"Tickets,\" \"Accessories,\" \"Insurances\") along with their descriptions.\n",
    "The model did not performed well in recognizing which tables were relevant to the user’s question when asked about organizing a world trip. The returned tables did not make sense based on the context provided (e.g., returning \"Clothes\" and \"Accessories\" for packing-related queries). It returned for example the Groceries Shopping List for the Week.\n",
    "\n",
    "We refined the prompt to broaden the scope of the query, such as asking about preparing for a year-long trip. The model still showed unessential columns.\n",
    "\n",
    "When asked to expand the columns for each table to ensure nothing was missing, the model initially did not add any new columns or expand upon the current table structure.\n",
    "A refined prompt asking for additional columns and their data types did not yield the desired result. This shows that the model sometimes struggles with creative schema generation when not explicitly guided with examples or more structured prompts.\n",
    "\n",
    "What I Learned:\n",
    "\n",
    "Prompt Specificity is Key: GPT performs best when prompts are detailed and structured. If the question is too vague, the model may provide incomplete or shallow responses.\n",
    "Limitations of Schema Generation: While GPT can understand and work with provided tables, it struggles with independently generating new and creative additions to schemas without structured guidance.\n"
   ]
  }
 ],
 "metadata": {
  "colab": {
   "include_colab_link": true,
   "provenance": []
  },
  "kernelspec": {
   "display_name": "Python 3 (ipykernel)",
   "language": "python",
   "name": "python3"
  },
  "language_info": {
   "codemirror_mode": {
    "name": "ipython",
    "version": 3
   },
   "file_extension": ".py",
   "mimetype": "text/x-python",
   "name": "python",
   "nbconvert_exporter": "python",
   "pygments_lexer": "ipython3",
   "version": "3.11.7"
  }
 },
 "nbformat": 4,
 "nbformat_minor": 5
}

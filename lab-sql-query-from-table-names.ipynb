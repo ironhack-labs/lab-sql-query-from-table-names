{
 "cells": [
  {
   "cell_type": "markdown",
   "id": "00a57394-53dd-47cd-a5e7-6e7122bbb0f6",
   "metadata": {},
   "source": [
    "# SQL query from table names"
   ]
  },
  {
   "cell_type": "markdown",
   "id": "86bc2813-763c-49f2-9f5d-e1f87a20556f",
   "metadata": {
    "id": "86bc2813-763c-49f2-9f5d-e1f87a20556f"
   },
   "source": [
    "In This notebook we are going to test if using just the name of the table, and a short definition of its contect we can use a model like GTP3.5-Turbo to select which tables are necessary to create a SQL Order to answer the user petition."
   ]
  },
  {
   "cell_type": "code",
   "execution_count": 1,
   "id": "7fbbdf5b-4d7f-4496-8f40-9d15ea46d023",
   "metadata": {
    "id": "7fbbdf5b-4d7f-4496-8f40-9d15ea46d023"
   },
   "outputs": [],
   "source": [
    "from openai import OpenAI\n",
    "import os\n",
    "from dotenv import load_dotenv, find_dotenv\n",
    "_ = load_dotenv(find_dotenv())\n",
    "\n",
    "OPENAI_API_KEY  = os.getenv('OPENAI_API_KEY')"
   ]
  },
  {
   "cell_type": "code",
   "execution_count": 2,
   "id": "e480bbfb-9a80-4ea6-b792-067e63ae3148",
   "metadata": {
    "id": "e480bbfb-9a80-4ea6-b792-067e63ae3148"
   },
   "outputs": [],
   "source": [
    "#Function to call the model.\n",
    "def return_OAI(user_message):\n",
    "    client = OpenAI(\n",
    "    # This is the default and can be omitted\n",
    "    api_key=OPENAI_API_KEY,\n",
    ")\n",
    "    context = []\n",
    "    context.append({'role':'system', \"content\": user_message})\n",
    "\n",
    "    response = client.chat.completions.create(\n",
    "            model=\"gpt-3.5-turbo\",\n",
    "            messages=context,\n",
    "            temperature=0,\n",
    "        )\n",
    "\n",
    "    return (response.choices[0].message.content)"
   ]
  },
  {
   "cell_type": "code",
   "execution_count": 3,
   "id": "d3b8bc1e",
   "metadata": {},
   "outputs": [],
   "source": [
    "#pip install pandas"
   ]
  },
  {
   "cell_type": "code",
   "execution_count": 5,
   "id": "6d5d2bdc-d822-4ed8-815e-b3f223730f15",
   "metadata": {
    "id": "6d5d2bdc-d822-4ed8-815e-b3f223730f15",
    "outputId": "61068bf0-41e3-40d9-b453-b76da5b0f086"
   },
   "outputs": [
    {
     "name": "stdout",
     "output_type": "stream",
     "text": [
      "         table                                         definition\n",
      "0    employees  Contains information about employees including...\n",
      "1  departments  Includes details about departments such as dep...\n",
      "2     salaries  Stores salary data for each year with employee...\n",
      "3      studies  Educational studies, highiest educational leve...\n"
     ]
    }
   ],
   "source": [
    "#Definition of the tables.\n",
    "import pandas as pd\n",
    "\n",
    "# Table and definitions sample\n",
    "data = { 'table': ['employees', 'departments', 'salaries', 'studies'],\n",
    "    'definition': [\n",
    "        'Contains information about employees including name, employee ID, and department ID.',\n",
    "        'Includes details about departments such as department ID, department name, manager.',\n",
    "        'Stores salary data for each year with employee ID, salary level, salary amount, and payment date.',\n",
    "        'Educational studies, highiest educational level, name of the institution, certifications and asociated dates'\n",
    "    ]\n",
    "}\n",
    "\n",
    "df = pd.DataFrame(data)\n",
    "print(df)"
   ]
  },
  {
   "cell_type": "code",
   "execution_count": 6,
   "id": "009e681c-d95d-4c9c-b044-5bfd76e3ad95",
   "metadata": {
    "id": "009e681c-d95d-4c9c-b044-5bfd76e3ad95"
   },
   "outputs": [],
   "source": [
    "text_tables = '\\n'.join([f\"{row['table']}: {row['definition']}\" for index, row in df.iterrows()])"
   ]
  },
  {
   "cell_type": "code",
   "execution_count": 7,
   "id": "fe03ac25-8d02-4cd1-99a1-be4220c6fd2d",
   "metadata": {
    "id": "fe03ac25-8d02-4cd1-99a1-be4220c6fd2d",
    "outputId": "c1f3aab1-5f26-48fe-fcf9-3780120f5aad"
   },
   "outputs": [
    {
     "name": "stdout",
     "output_type": "stream",
     "text": [
      "employees: Contains information about employees including name, employee ID, and department ID.\n",
      "departments: Includes details about departments such as department ID, department name, manager.\n",
      "salaries: Stores salary data for each year with employee ID, salary level, salary amount, and payment date.\n",
      "studies: Educational studies, highiest educational level, name of the institution, certifications and asociated dates\n"
     ]
    }
   ],
   "source": [
    "print(text_tables)"
   ]
  },
  {
   "cell_type": "code",
   "execution_count": 8,
   "id": "c7e275ae-f20d-4134-b9b6-d8677dfb544c",
   "metadata": {
    "id": "c7e275ae-f20d-4134-b9b6-d8677dfb544c"
   },
   "outputs": [],
   "source": [
    "prompt_question_tables = \"\"\"\n",
    "Given the following tables and their content definitions,\n",
    "###Tables\n",
    "{tables}\n",
    "\n",
    "Tell me which tables would be necessary to query with SQL to address the user's question below.\n",
    "Return the table names in a json format.\n",
    "###User Questyion:\n",
    "{question}\n",
    "\"\"\"\n"
   ]
  },
  {
   "cell_type": "code",
   "execution_count": 9,
   "id": "b1cb5957-2df2-4e5e-9e6a-ace955c9817e",
   "metadata": {
    "id": "b1cb5957-2df2-4e5e-9e6a-ace955c9817e"
   },
   "outputs": [],
   "source": [
    "#Creating the prompt, with the user questions and the tables definitions.\n",
    "pqt1 = prompt_question_tables.format(tables=text_tables, question=\"Which employees have a master's degree and work in the 'Sales' department?\")"
   ]
  },
  {
   "cell_type": "code",
   "execution_count": 10,
   "id": "10d30f2b-6c23-4fd6-8038-840fba784cce",
   "metadata": {
    "id": "10d30f2b-6c23-4fd6-8038-840fba784cce",
    "outputId": "9924022c-7b2b-4ec8-e2c2-75bc1c745151",
    "scrolled": true
   },
   "outputs": [
    {
     "name": "stdout",
     "output_type": "stream",
     "text": [
      "```json\n",
      "{\n",
      "    \"tables\": [\"employees\", \"departments\", \"studies\"]\n",
      "}\n",
      "```\n"
     ]
    }
   ],
   "source": [
    "print(return_OAI(pqt1))"
   ]
  },
  {
   "cell_type": "code",
   "execution_count": 11,
   "id": "4ac1020b",
   "metadata": {},
   "outputs": [],
   "source": [
    "#Creating the prompt, with the user questions and the tables definitions.\n",
    "pqt2 = prompt_question_tables.format(tables=text_tables, question=\"Who is the manager with the largest number of employees reporting to them?\")"
   ]
  },
  {
   "cell_type": "code",
   "execution_count": 12,
   "id": "0de73510",
   "metadata": {},
   "outputs": [
    {
     "name": "stdout",
     "output_type": "stream",
     "text": [
      "{\n",
      "    \"tables\": [\"employees\", \"departments\"]\n",
      "}\n"
     ]
    }
   ],
   "source": [
    "print(return_OAI(pqt2))"
   ]
  },
  {
   "cell_type": "code",
   "execution_count": 13,
   "id": "57e07083-be8f-4cd0-95bd-c4b909422c6b",
   "metadata": {
    "id": "57e07083-be8f-4cd0-95bd-c4b909422c6b"
   },
   "outputs": [],
   "source": [
    "pqt3 = prompt_question_tables.format(tables=text_tables,\n",
    "                                     question=\"Which employees with a PhD earned more than $90,000 last year in the 'Research' department?\")"
   ]
  },
  {
   "cell_type": "code",
   "execution_count": 14,
   "id": "a0eeb79e-caf1-4f48-9897-168d95d2ae37",
   "metadata": {
    "id": "a0eeb79e-caf1-4f48-9897-168d95d2ae37",
    "outputId": "81d77115-9cad-4284-a228-5368bb9aa6fb"
   },
   "outputs": [
    {
     "name": "stdout",
     "output_type": "stream",
     "text": [
      "{\n",
      "    \"tables\": [\"employees\", \"salaries\", \"studies\"]\n",
      "}\n"
     ]
    }
   ],
   "source": [
    "print(return_OAI(pqt3))"
   ]
  },
  {
   "cell_type": "markdown",
   "id": "1056f095",
   "metadata": {},
   "source": [
    "# **Prompt Variation No. 1**"
   ]
  },
  {
   "cell_type": "code",
   "execution_count": 15,
   "id": "fc07861b",
   "metadata": {},
   "outputs": [],
   "source": [
    "prompt_question_tables_01 = \"\"\"\n",
    "Given the following tables and their content definitions,\n",
    "###Tables\n",
    "{tables}\n",
    "\n",
    "Note:\n",
    "- Use the 'departments' table when questions involve department-specific details.\n",
    "- Use the 'employees' table for general employee information.\n",
    "- Use the 'studies' table when questions involve education-related criteria.\n",
    "- Use the 'salaries' table for financial or salary-related questions.\n",
    "\n",
    "Example:\n",
    "For the question \"Which employees with a PhD earned more than $90,000 last year in the 'Research' department?\",\n",
    "the necessary tables are 'employees', 'salaries', 'studies', and 'departments'.\n",
    "\n",
    "Tell me which tables would be necessary to query with SQL to address the user's question below.\n",
    "Return the table names in a json format.\n",
    "###User Questyion:\n",
    "{question}\n",
    "\"\"\""
   ]
  },
  {
   "cell_type": "code",
   "execution_count": 16,
   "id": "9b1cfad8",
   "metadata": {},
   "outputs": [],
   "source": [
    "pqt4 = prompt_question_tables_01.format(tables=text_tables, question=\n",
    "    \"How many employees with a bachelor's degree or higher report to a manager in the 'Sales' department, and what is the average salary of these employees?\"\n",
    "    )"
   ]
  },
  {
   "cell_type": "code",
   "execution_count": 17,
   "id": "2be1e0f5",
   "metadata": {},
   "outputs": [
    {
     "name": "stdout",
     "output_type": "stream",
     "text": [
      "{\n",
      "    \"tables\": [\"employees\", \"departments\", \"studies\", \"salaries\"]\n",
      "}\n"
     ]
    }
   ],
   "source": [
    "print(return_OAI(pqt4))"
   ]
  },
  {
   "cell_type": "code",
   "execution_count": 19,
   "id": "ee476972",
   "metadata": {},
   "outputs": [],
   "source": [
    "pqt5 = prompt_question_tables_01.format(tables=text_tables, question=\n",
    "    \"Which employees received their highest educational degree in the same year they were hired, and in which department do they currently work?\"\n",
    "    )"
   ]
  },
  {
   "cell_type": "code",
   "execution_count": 20,
   "id": "d939d339",
   "metadata": {},
   "outputs": [
    {
     "name": "stdout",
     "output_type": "stream",
     "text": [
      "{\n",
      "  \"tables\": [\"employees\", \"studies\", \"departments\"]\n",
      "}\n"
     ]
    }
   ],
   "source": [
    "print(return_OAI(pqt5))"
   ]
  },
  {
   "cell_type": "markdown",
   "id": "252faa25",
   "metadata": {},
   "source": [
    "# **Prompt Variation No. 2**"
   ]
  },
  {
   "cell_type": "code",
   "execution_count": 21,
   "id": "05b2b2e9",
   "metadata": {},
   "outputs": [],
   "source": [
    "prompt_question_tables_02 = \"\"\"\n",
    "Given the following tables and their content definitions,\n",
    "### Tables\n",
    "{tables}\n",
    "\n",
    "### Instructions for the Model:\n",
    "- Prioritize relationships between tables based on user queries.\n",
    "- Use the 'departments' table for department-related details or manager information.\n",
    "- Use the 'studies' table for education-related criteria such as degrees or certifications.\n",
    "- Use the 'salaries' table for queries involving financial information.\n",
    "- When combining tables, identify shared fields like 'employee ID' or 'department ID' for correct relationships.\n",
    "\n",
    "### Example Relationships:\n",
    "- To find employees in a department: Combine 'employees' with 'departments' using 'department ID'.\n",
    "- To check education and salaries: Combine 'employees', 'studies', and 'salaries' using 'employee ID'.\n",
    "\n",
    "### User Question:\n",
    "{question}\n",
    "\n",
    "Return only the table names required to answer the query in a JSON format.\n",
    "\"\"\""
   ]
  },
  {
   "cell_type": "code",
   "execution_count": 22,
   "id": "54773414",
   "metadata": {},
   "outputs": [],
   "source": [
    "pqt6 = prompt_question_tables_02.format(tables=text_tables, question=\n",
    "    \"Which employees were hired before obtaining their highest degree, and in which department do they work?\"\n",
    "    )"
   ]
  },
  {
   "cell_type": "code",
   "execution_count": 23,
   "id": "766018a2",
   "metadata": {},
   "outputs": [
    {
     "name": "stdout",
     "output_type": "stream",
     "text": [
      "{\n",
      "  \"tables\": [\"employees\", \"studies\"]\n",
      "}\n"
     ]
    }
   ],
   "source": [
    "print(return_OAI(pqt6))"
   ]
  },
  {
   "cell_type": "code",
   "execution_count": 24,
   "id": "7c1c15d4",
   "metadata": {},
   "outputs": [],
   "source": [
    "pqt7 = prompt_question_tables_02.format(tables=text_tables, question=\n",
    "    \"Who is the employee with the highest salary in the company, and how many years have they been working there based on their hiring date?\"\n",
    "    )"
   ]
  },
  {
   "cell_type": "code",
   "execution_count": 25,
   "id": "8ba59c88",
   "metadata": {},
   "outputs": [
    {
     "name": "stdout",
     "output_type": "stream",
     "text": [
      "{\n",
      "  \"tables\": [\"employees\", \"salaries\"]\n",
      "}\n"
     ]
    }
   ],
   "source": [
    "print(return_OAI(pqt7))"
   ]
  },
  {
   "cell_type": "code",
   "execution_count": 26,
   "id": "3384245d",
   "metadata": {},
   "outputs": [],
   "source": [
    "pqt8 = prompt_question_tables_02.format(tables=text_tables, question=\n",
    "    \"Who has achieved the highest educational level and is associated with the highest total salary in their department?\"\n",
    "    )"
   ]
  },
  {
   "cell_type": "code",
   "execution_count": 27,
   "id": "37f959e1",
   "metadata": {},
   "outputs": [
    {
     "name": "stdout",
     "output_type": "stream",
     "text": [
      "{\n",
      "  \"tables\": [\"employees\", \"departments\", \"studies\", \"salaries\"]\n",
      "}\n"
     ]
    }
   ],
   "source": [
    "print(return_OAI(pqt8))"
   ]
  },
  {
   "cell_type": "markdown",
   "id": "321bb9a2-4937-4e9a-a31b-7049cb8f5aa3",
   "metadata": {
    "id": "321bb9a2-4937-4e9a-a31b-7049cb8f5aa3"
   },
   "source": [
    "# Exercise\n",
    " - Complete the prompts similar to what we did in class. \n",
    "     - Try a few versions if you have time\n",
    "     - Be creative\n",
    " - Write a one page report summarizing your findings.\n",
    "     - Were there variations that didn't work well? i.e., where GPT either hallucinated or wrong\n",
    " - What did you learn?"
   ]
  },
  {
   "cell_type": "markdown",
   "id": "e680c9e5",
   "metadata": {},
   "source": [
    "# **Summary Report: SQL Query from Table Names**"
   ]
  },
  {
   "cell_type": "markdown",
   "id": "e6ffe56d",
   "metadata": {},
   "source": [
    "Objective: The aim of this exercise was to test whether GPT-3.5-Turbo can determine the relevant tables for constructing SQL queries based on table names and their definitions. This involved feeding the model with structured prompts and evaluating its responses.\n",
    "________________________________________\n",
    "Findings:\n",
    "1.\tEffective Scenarios:\n",
    "o\tWhen table names and definitions were detailed and directly aligned with the user’s query, the model performed well, accurately identifying the necessary tables.\n",
    "o\tClear and concise prompts, formatted with structured instructions, yielded accurate and consistent outputs.\n",
    "o\tIn a challenging example where employees needed to be matched with their highest educational degree obtained in the same year they were hired, the model successfully identified only the relevant tables (employees, studies, and departments), demonstrating its ability to handle more complex and ambiguous queries.\n",
    "o\tFor a more ambiguous query (\"Who has achieved the highest educational level and is associated with the highest total salary in their department?\"), the model inferred the correct set of tables (employees, departments, studies, salaries), showing that the optimized prompt improved its ability to handle unclear questions.\n",
    "2.\tChallenging Scenarios:\n",
    "o\tHallucinations: In cases where table definitions were ambiguous or overlapped conceptually, GPT occasionally inferred irrelevant tables or omitted necessary ones.\n",
    "o\tOver-inclusion of Tables: Even when the user’s question was specific and did not require certain tables (e.g., salaries in creative variations), the model included them in the response.\n",
    "o\tOmission of Tables: For questions that involved filtering by department (e.g., \"Which employees with a PhD earned more than $90,000 last year in the 'Research' department?\"), the model failed to include the departments table. This suggests a lack of understanding of inter-table dependencies.\n",
    "o\tSensitivity to Prompt Wording: Minor changes in the question phrasing led to inconsistencies, with the model sometimes overcompensating by adding unnecessary tables.\n",
    "________________________________________\n",
    "Key Learnings:\n",
    "•\tPrompt Design Matters: A well-structured prompt, including explicit formatting, clear task delineation, and examples of relationships, is critical for obtaining accurate responses.\n",
    "•\tContextual Ambiguity: The model relies heavily on explicit definitions; vague or incomplete descriptions significantly impact accuracy.\n",
    "•\tIterative Refinement: Experimenting with variations of the same query can help identify optimal approaches and refine results.\n",
    "•\tDependency Clarity: Explicitly stating dependencies between tables in the prompt can help guide the model to better decisions.\n",
    "•\tHandling Ambiguity: Optimized prompts with detailed instructions improved the model’s ability to infer relationships, even when the query was unclear or incomplete.\n",
    "•\tLimitations of AI: While GPT is powerful in text understanding, it lacks inherent relational database knowledge, leading to occasional logical gaps.\n",
    "________________________________________\n",
    "Future Considerations:\n",
    "•\tEnhance table definitions with unambiguous and context-rich descriptions.\n",
    "•\tInclude contextual examples in the prompt to guide the model effectively.\n",
    "•\tValidate model outputs by cross-referencing with actual database schemas to mitigate hallucinations.\n",
    "•\tExplore fine-tuning for domain-specific database tasks to improve precision and reliability.\n",
    "•\tUse prompts that explicitly prioritize relationships and include examples of common table connections to handle complex or ambiguous queries.\n",
    "________________________________________\n",
    "Conclusion: \n",
    "This exercise highlighted GPT-3.5-Turbo’s potential as a tool for SQL query assistance but underscored the importance of prompt engineering and validation processes. The optimized prompt significantly improved the model’s ability to infer relationships, handle ambiguity, and provide accurate table selections. While the model demonstrated strong capabilities, certain scenarios require human intervention or additional refinement to ensure accuracy.\n"
   ]
  }
 ],
 "metadata": {
  "colab": {
   "include_colab_link": true,
   "provenance": []
  },
  "kernelspec": {
   "display_name": "orderbot_env",
   "language": "python",
   "name": "python3"
  },
  "language_info": {
   "codemirror_mode": {
    "name": "ipython",
    "version": 3
   },
   "file_extension": ".py",
   "mimetype": "text/x-python",
   "name": "python",
   "nbconvert_exporter": "python",
   "pygments_lexer": "ipython3",
   "version": "3.13.1"
  }
 },
 "nbformat": 4,
 "nbformat_minor": 5
}

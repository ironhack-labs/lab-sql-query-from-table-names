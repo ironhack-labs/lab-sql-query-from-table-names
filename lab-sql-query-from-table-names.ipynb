{
 "cells": [
  {
   "cell_type": "markdown",
   "id": "00a57394-53dd-47cd-a5e7-6e7122bbb0f6",
   "metadata": {},
   "source": [
    "# SQL query from table names"
   ]
  },
  {
   "cell_type": "markdown",
   "id": "86bc2813-763c-49f2-9f5d-e1f87a20556f",
   "metadata": {
    "id": "86bc2813-763c-49f2-9f5d-e1f87a20556f"
   },
   "source": [
    "In This notebook we are going to test if using just the name of the table, and a shord definition of its contect we can use a model like GTP3.5-Turbo to select which tables are necessary to create a SQL Order to answer the user petition."
   ]
  },
  {
   "cell_type": "code",
   "execution_count": 1,
   "id": "7fbbdf5b-4d7f-4496-8f40-9d15ea46d023",
   "metadata": {
    "id": "7fbbdf5b-4d7f-4496-8f40-9d15ea46d023"
   },
   "outputs": [],
   "source": [
    "from openai import OpenAI\n",
    "import os\n",
    "from dotenv import load_dotenv, find_dotenv\n",
    "_ = load_dotenv(find_dotenv())\n",
    "\n",
    "OPENAI_API_KEY  = os.getenv('OPENAI_API_KEY')"
   ]
  },
  {
   "cell_type": "code",
   "execution_count": 2,
   "id": "e480bbfb-9a80-4ea6-b792-067e63ae3148",
   "metadata": {
    "id": "e480bbfb-9a80-4ea6-b792-067e63ae3148"
   },
   "outputs": [],
   "source": [
    "#Functio to call the model.\n",
    "def return_OAI(user_message):\n",
    "    client = OpenAI(\n",
    "    # This is the default and can be omitted\n",
    "    api_key=OPENAI_API_KEY,\n",
    ")\n",
    "    context = []\n",
    "    context.append({'role':'system', \"content\": user_message})\n",
    "\n",
    "    response = client.chat.completions.create(\n",
    "            model=\"gpt-3.5-turbo\",\n",
    "            messages=context,\n",
    "            temperature=0,\n",
    "        )\n",
    "\n",
    "    return (response.choices[0].message.content)"
   ]
  },
  {
   "cell_type": "code",
   "execution_count": 3,
   "id": "6d5d2bdc-d822-4ed8-815e-b3f223730f15",
   "metadata": {
    "id": "6d5d2bdc-d822-4ed8-815e-b3f223730f15",
    "outputId": "61068bf0-41e3-40d9-b453-b76da5b0f086"
   },
   "outputs": [
    {
     "name": "stdout",
     "output_type": "stream",
     "text": [
      "       table                                    definition\n",
      "0  employees                 Employee information, name...\n",
      "1     salary                  Salary details for each year\n",
      "2    studies  Educational studies, name of the institution\n"
     ]
    }
   ],
   "source": [
    "#Definition of the tables.\n",
    "import pandas as pd\n",
    "\n",
    "# Table and definitions sample\n",
    "data = {'table': ['employees', 'salary', 'studies'],\n",
    "        'definition': ['Employee information, name...', 'Salary details for each year', 'Educational studies, name of the institution']} \n",
    "df = pd.DataFrame(data)\n",
    "print(df)"
   ]
  },
  {
   "cell_type": "code",
   "execution_count": 4,
   "id": "009e681c-d95d-4c9c-b044-5bfd76e3ad95",
   "metadata": {
    "id": "009e681c-d95d-4c9c-b044-5bfd76e3ad95"
   },
   "outputs": [],
   "source": [
    "text_tables = '\\n'.join([f\"{row['table']}: {row['definition']}\" for index, row in df.iterrows()])"
   ]
  },
  {
   "cell_type": "code",
   "execution_count": 5,
   "id": "fe03ac25-8d02-4cd1-99a1-be4220c6fd2d",
   "metadata": {
    "id": "fe03ac25-8d02-4cd1-99a1-be4220c6fd2d",
    "outputId": "c1f3aab1-5f26-48fe-fcf9-3780120f5aad"
   },
   "outputs": [
    {
     "name": "stdout",
     "output_type": "stream",
     "text": [
      "employees: Employee information, name...\n",
      "salary: Salary details for each year\n",
      "studies: Educational studies, name of the institution\n"
     ]
    }
   ],
   "source": [
    "print(text_tables)"
   ]
  },
  {
   "cell_type": "code",
   "execution_count": 6,
   "id": "c7e275ae-f20d-4134-b9b6-d8677dfb544c",
   "metadata": {
    "id": "c7e275ae-f20d-4134-b9b6-d8677dfb544c"
   },
   "outputs": [],
   "source": [
    "prompt_question_tables = \"\"\"\n",
    "Given the following tables and their content definitions,\n",
    "###Tables\n",
    "{tables}\n",
    "\n",
    "Tell me which tables would be necessary to query with SQL to address the user's question below.\n",
    "Return the table names in a json format.\n",
    "###User Questyion:\n",
    "{question}\n",
    "\"\"\"\n"
   ]
  },
  {
   "cell_type": "code",
   "execution_count": 7,
   "id": "b1cb5957-2df2-4e5e-9e6a-ace955c9817e",
   "metadata": {
    "id": "b1cb5957-2df2-4e5e-9e6a-ace955c9817e"
   },
   "outputs": [],
   "source": [
    "#Creating the prompt, with the user questions and the tables definitions.\n",
    "pqt1 = prompt_question_tables.format(tables=text_tables, question='What is the highest salary in compare to studies')"
   ]
  },
  {
   "cell_type": "code",
   "execution_count": 8,
   "id": "10d30f2b-6c23-4fd6-8038-840fba784cce",
   "metadata": {
    "id": "10d30f2b-6c23-4fd6-8038-840fba784cce",
    "outputId": "9924022c-7b2b-4ec8-e2c2-75bc1c745151",
    "scrolled": true
   },
   "outputs": [
    {
     "name": "stdout",
     "output_type": "stream",
     "text": [
      "```json\n",
      "{\n",
      "    \"tables\": [\"employees\", \"salary\", \"studies\"]\n",
      "}\n",
      "```\n"
     ]
    }
   ],
   "source": [
    "print(return_OAI(pqt1))"
   ]
  },
  {
   "cell_type": "code",
   "execution_count": 9,
   "id": "57e07083-be8f-4cd0-95bd-c4b909422c6b",
   "metadata": {
    "id": "57e07083-be8f-4cd0-95bd-c4b909422c6b"
   },
   "outputs": [],
   "source": [
    "pqt3 = prompt_question_tables.format(tables=text_tables,\n",
    "                                     question = 'What is the highest salary')"
   ]
  },
  {
   "cell_type": "code",
   "execution_count": 10,
   "id": "a0eeb79e-caf1-4f48-9897-168d95d2ae37",
   "metadata": {
    "id": "a0eeb79e-caf1-4f48-9897-168d95d2ae37",
    "outputId": "81d77115-9cad-4284-a228-5368bb9aa6fb"
   },
   "outputs": [
    {
     "name": "stdout",
     "output_type": "stream",
     "text": [
      "```json\n",
      "{\n",
      "    \"tables\": [\"salary\"]\n",
      "}\n",
      "```\n"
     ]
    }
   ],
   "source": [
    "print(return_OAI(pqt3))"
   ]
  },
  {
   "cell_type": "markdown",
   "id": "321bb9a2-4937-4e9a-a31b-7049cb8f5aa3",
   "metadata": {
    "id": "321bb9a2-4937-4e9a-a31b-7049cb8f5aa3"
   },
   "source": [
    "# Exercise\n",
    " - Complete the prompts similar to what we did in class. \n",
    "     - Try a few versions if you have time\n",
    "     - Be creative\n",
    " - Write a one page report summarizing your findings.\n",
    "     - Were there variations that didn't work well? i.e., where GPT either hallucinated or wrong\n",
    " - What did you learn?"
   ]
  },
  {
   "cell_type": "code",
   "execution_count": 12,
   "id": "cb714e73",
   "metadata": {},
   "outputs": [
    {
     "name": "stdout",
     "output_type": "stream",
     "text": [
      "Querying GPT with prompt:\n",
      "\n",
      "Given the following tables and their content definitions,\n",
      "### Tables\n",
      "employees: Employee information, including names and positions.\n",
      "salary: Salary details, including yearly earnings and bonuses.\n",
      "studies: Educational background, including institutions and degrees.\n",
      "departments: Department details, including names and department heads.\n",
      "\n",
      "Tell me which tables would be necessary to query with SQL to address the user's question below.\n",
      "Return the table names in a JSON format.\n",
      "### User Question:\n",
      "What is the highest salary across all employees?\n",
      "\n",
      "\n",
      "Question: What is the highest salary across all employees?\n",
      "Response: {'response': 'Sample response'}\n",
      "\n",
      "\n",
      "Querying GPT with prompt:\n",
      "\n",
      "Given the following tables and their content definitions,\n",
      "### Tables\n",
      "employees: Employee information, including names and positions.\n",
      "salary: Salary details, including yearly earnings and bonuses.\n",
      "studies: Educational background, including institutions and degrees.\n",
      "departments: Department details, including names and department heads.\n",
      "\n",
      "Tell me which tables would be necessary to query with SQL to address the user's question below.\n",
      "Return the table names in a JSON format.\n",
      "### User Question:\n",
      "Which department has the most employees?\n",
      "\n",
      "\n",
      "Question: Which department has the most employees?\n",
      "Response: {'response': 'Sample response'}\n",
      "\n",
      "\n",
      "Querying GPT with prompt:\n",
      "\n",
      "Given the following tables and their content definitions,\n",
      "### Tables\n",
      "employees: Employee information, including names and positions.\n",
      "salary: Salary details, including yearly earnings and bonuses.\n",
      "studies: Educational background, including institutions and degrees.\n",
      "departments: Department details, including names and department heads.\n",
      "\n",
      "Tell me which tables would be necessary to query with SQL to address the user's question below.\n",
      "Return the table names in a JSON format.\n",
      "### User Question:\n",
      "What is the average salary for employees with a Master's degree?\n",
      "\n",
      "\n",
      "Question: What is the average salary for employees with a Master's degree?\n",
      "Response: {'response': 'Sample response'}\n",
      "\n",
      "\n",
      "Querying GPT with prompt:\n",
      "\n",
      "Given the following tables and their content definitions,\n",
      "### Tables\n",
      "employees: Employee information, including names and positions.\n",
      "salary: Salary details, including yearly earnings and bonuses.\n",
      "studies: Educational background, including institutions and degrees.\n",
      "departments: Department details, including names and department heads.\n",
      "\n",
      "Tell me which tables would be necessary to query with SQL to address the user's question below.\n",
      "Return the table names in a JSON format.\n",
      "### User Question:\n",
      "Which department head has the highest-paid team?\n",
      "\n",
      "\n",
      "Question: Which department head has the highest-paid team?\n",
      "Response: {'response': 'Sample response'}\n",
      "\n",
      "\n",
      "Experiment with different questions and evaluate the GPT responses.\n"
     ]
    }
   ],
   "source": [
    "# Import necessary libraries\n",
    "import pandas as pd\n",
    "\n",
    "# Define tables with their names and short descriptions\n",
    "data = {\n",
    "    'table': ['employees', 'salary', 'studies', 'departments'],\n",
    "    'definition': [\n",
    "        'Employee information, including names and positions.',\n",
    "        'Salary details, including yearly earnings and bonuses.',\n",
    "        'Educational background, including institutions and degrees.',\n",
    "        'Department details, including names and department heads.'\n",
    "    ]\n",
    "}\n",
    "df = pd.DataFrame(data)\n",
    "\n",
    "# Create text descriptions of the tables\n",
    "text_tables = '\\n'.join([f\"{row['table']}: {row['definition']}\" for index, row in df.iterrows()])\n",
    "\n",
    "# Define the prompt template\n",
    "prompt_question_tables = \"\"\"\n",
    "Given the following tables and their content definitions,\n",
    "### Tables\n",
    "{tables}\n",
    "\n",
    "Tell me which tables would be necessary to query with SQL to address the user's question below.\n",
    "Return the table names in a JSON format.\n",
    "### User Question:\n",
    "{question}\n",
    "\"\"\"\n",
    "\n",
    "# Function to query GPT (replace with your API interaction function)\n",
    "def query_gpt(prompt):\n",
    "    # This should call the GPT API with the prompt and return the response.\n",
    "    # Replace this stub with your GPT function, e.g., return_OAI(prompt)\n",
    "    print(f\"Querying GPT with prompt:\\n{prompt}\\n\")\n",
    "    return {\"response\": \"Sample response\"}  # Example response\n",
    "\n",
    "# Example questions to test\n",
    "questions = [\n",
    "    \"What is the highest salary across all employees?\",\n",
    "    \"Which department has the most employees?\",\n",
    "    \"What is the average salary for employees with a Master's degree?\",\n",
    "    \"Which department head has the highest-paid team?\"\n",
    "]\n",
    "\n",
    "# Loop through the questions and query GPT\n",
    "for question in questions:\n",
    "    prompt = prompt_question_tables.format(tables=text_tables, question=question)\n",
    "    response = query_gpt(prompt)\n",
    "    print(f\"Question: {question}\")\n",
    "    print(f\"Response: {response}\")\n",
    "    print(\"\\n\")\n",
    "\n",
    "# Instructions for further exploration\n",
    "print(\"Experiment with different questions and evaluate the GPT responses.\")"
   ]
  }
 ],
 "metadata": {
  "colab": {
   "include_colab_link": true,
   "provenance": []
  },
  "kernelspec": {
   "display_name": "base",
   "language": "python",
   "name": "python3"
  },
  "language_info": {
   "codemirror_mode": {
    "name": "ipython",
    "version": 3
   },
   "file_extension": ".py",
   "mimetype": "text/x-python",
   "name": "python",
   "nbconvert_exporter": "python",
   "pygments_lexer": "ipython3",
   "version": "3.12.7"
  }
 },
 "nbformat": 4,
 "nbformat_minor": 5
}

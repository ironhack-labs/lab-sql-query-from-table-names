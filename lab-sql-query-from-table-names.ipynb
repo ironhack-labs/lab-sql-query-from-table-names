{
 "cells": [
  {
   "cell_type": "markdown",
   "id": "00a57394-53dd-47cd-a5e7-6e7122bbb0f6",
   "metadata": {},
   "source": [
    "# SQL query from table names"
   ]
  },
  {
   "cell_type": "markdown",
   "id": "86bc2813-763c-49f2-9f5d-e1f87a20556f",
   "metadata": {
    "id": "86bc2813-763c-49f2-9f5d-e1f87a20556f"
   },
   "source": [
    "In This notebook we are going to test if using just the name of the table, and a shord definition of its contect we can use a model like GTP3.5-Turbo to select which tables are necessary to create a SQL Order to answer the user petition."
   ]
  },
  {
   "cell_type": "code",
   "execution_count": 2,
   "id": "7fbbdf5b-4d7f-4496-8f40-9d15ea46d023",
   "metadata": {
    "id": "7fbbdf5b-4d7f-4496-8f40-9d15ea46d023"
   },
   "outputs": [],
   "source": [
    "import openai\n",
    "import os\n",
    "from dotenv import load_dotenv, find_dotenv\n",
    "\n",
    "# Load environment variables from the .env file\n",
    "_ = load_dotenv(find_dotenv())\n",
    "\n",
    "# Get the OpenAI API key from environment variables\n",
    "OPENAI_API_KEY = os.getenv('OPENAI_API_KEY')\n",
    "\n",
    "# Set the OpenAI API key in the OpenAI Python package\n",
    "openai.api_key = OPENAI_API_KEY"
   ]
  },
  {
   "cell_type": "code",
   "execution_count": 3,
   "id": "e480bbfb-9a80-4ea6-b792-067e63ae3148",
   "metadata": {
    "id": "e480bbfb-9a80-4ea6-b792-067e63ae3148"
   },
   "outputs": [],
   "source": [
    "#Functio to call the model.\n",
    "def return_OAI(user_message):\n",
    "    client = OpenAI(\n",
    "    # This is the default and can be omitted\n",
    "    api_key=OPENAI_API_KEY,\n",
    ")\n",
    "    context = []\n",
    "    context.append({'role':'system', \"content\": user_message})\n",
    "\n",
    "    response = client.chat.completions.create(\n",
    "            model=\"gpt-3.5-turbo\",\n",
    "            messages=context,\n",
    "            temperature=0,\n",
    "        )\n",
    "\n",
    "    return (response.choices[0].message.content)"
   ]
  },
  {
   "cell_type": "code",
   "execution_count": 5,
   "id": "6d5d2bdc-d822-4ed8-815e-b3f223730f15",
   "metadata": {
    "id": "6d5d2bdc-d822-4ed8-815e-b3f223730f15",
    "outputId": "61068bf0-41e3-40d9-b453-b76da5b0f086"
   },
   "outputs": [
    {
     "name": "stdout",
     "output_type": "stream",
     "text": [
      "       table                 definition\n",
      "0  Customers  Contains customer details\n",
      "1     Orders     Contains order details\n",
      "2   Products   Contains product details\n"
     ]
    }
   ],
   "source": [
    "import pandas as pd\n",
    "\n",
    "# Define the table data with actual columns and definitions\n",
    "data = {\n",
    "    'table': ['Customers', 'Orders', 'Products'],  # Replace with actual table names\n",
    "    'definition': ['Contains customer details', 'Contains order details', 'Contains product details']  # Replace with actual definitions\n",
    "}\n",
    "\n",
    "# Create a DataFrame from the dictionary\n",
    "df = pd.DataFrame(data)\n",
    "\n",
    "# Print the DataFrame\n",
    "print(df)"
   ]
  },
  {
   "cell_type": "code",
   "execution_count": 6,
   "id": "009e681c-d95d-4c9c-b044-5bfd76e3ad95",
   "metadata": {
    "id": "009e681c-d95d-4c9c-b044-5bfd76e3ad95"
   },
   "outputs": [],
   "source": [
    "text_tables = '\\n'.join([f\"{row['table']}: {row['definition']}\" for index, row in df.iterrows()])"
   ]
  },
  {
   "cell_type": "code",
   "execution_count": 14,
   "id": "fe03ac25-8d02-4cd1-99a1-be4220c6fd2d",
   "metadata": {
    "id": "fe03ac25-8d02-4cd1-99a1-be4220c6fd2d",
    "outputId": "c1f3aab1-5f26-48fe-fcf9-3780120f5aad"
   },
   "outputs": [
    {
     "name": "stdout",
     "output_type": "stream",
     "text": [
      "employees: Employee information, name...\n",
      "salary: Salary details for each year\n",
      "studies: Educational studies, name of the institution, type of studies, level\n"
     ]
    }
   ],
   "source": [
    "print(text_tables)"
   ]
  },
  {
   "cell_type": "code",
   "execution_count": 16,
   "id": "c7e275ae-f20d-4134-b9b6-d8677dfb544c",
   "metadata": {
    "id": "c7e275ae-f20d-4134-b9b6-d8677dfb544c"
   },
   "outputs": [],
   "source": [
    "prompt_question_tables = \"\"\"\n",
    "Given the following tables and their content definitions,\n",
    "###Tables\n",
    "{tables}\n",
    "\n",
    "Tell me which tables would be necessary to query with SQL to address the user's question below.\n",
    "Return the table names in a json format.\n",
    "###User Question:\n",
    "{question}\n",
    "\"\"\"\n"
   ]
  },
  {
   "cell_type": "code",
   "execution_count": 18,
   "id": "b1cb5957-2df2-4e5e-9e6a-ace955c9817e",
   "metadata": {
    "id": "b1cb5957-2df2-4e5e-9e6a-ace955c9817e"
   },
   "outputs": [
    {
     "name": "stdout",
     "output_type": "stream",
     "text": [
      "Here are the tables:\n",
      "Table 1: Users\n",
      "Table 2: Orders\n",
      "Table 3: Products\n",
      "\n",
      "Question: Tell me which tables would be necessary to query with SQL to address the user's question below.\n",
      "Return the table names in a json format.\n"
     ]
    }
   ],
   "source": [
    "# Assuming prompt_question_tables is defined as a template string\n",
    "prompt_question_tables = \"Here are the tables:\\n{tables}\\n\\nQuestion: {question}\"\n",
    "\n",
    "# Example tables content (you should replace this with your actual table definitions)\n",
    "text_tables = \"Table 1: Users\\nTable 2: Orders\\nTable 3: Products\"\n",
    "\n",
    "# Creating the prompt with a multi-line question\n",
    "question = \"\"\"Tell me which tables would be necessary to query with SQL to address the user's question below.\n",
    "Return the table names in a json format.\"\"\"\n",
    "\n",
    "# Formatting the prompt\n",
    "pqt1 = prompt_question_tables.format(tables=text_tables, question=question)\n",
    "\n",
    "print(pqt1)  # To see the formatted output\n"
   ]
  },
  {
   "cell_type": "code",
   "execution_count": 21,
   "id": "10d30f2b-6c23-4fd6-8038-840fba784cce",
   "metadata": {
    "id": "10d30f2b-6c23-4fd6-8038-840fba784cce",
    "outputId": "9924022c-7b2b-4ec8-e2c2-75bc1c745151",
    "scrolled": true
   },
   "outputs": [
    {
     "name": "stdout",
     "output_type": "stream",
     "text": [
      "{\n",
      "  \"tables\": [\"Users\", \"Orders\", \"Products\"]\n",
      "}\n"
     ]
    }
   ],
   "source": [
    "def return_OAI(user_message):\n",
    "    # Set the API key\n",
    "    openai.api_key = OPENAI_API_KEY\n",
    "\n",
    "    # Create a chat completion\n",
    "    response = openai.ChatCompletion.create(\n",
    "        model=\"gpt-3.5-turbo\",  # or another model you wish to use\n",
    "        messages=[{\"role\": \"user\", \"content\": user_message}]\n",
    "    )\n",
    "    return response.choices[0].message['content']\n",
    "\n",
    "# Example usage\n",
    "print(return_OAI(pqt1))"
   ]
  },
  {
   "cell_type": "code",
   "execution_count": 26,
   "id": "57e07083-be8f-4cd0-95bd-c4b909422c6b",
   "metadata": {
    "id": "57e07083-be8f-4cd0-95bd-c4b909422c6b"
   },
   "outputs": [
    {
     "name": "stdout",
     "output_type": "stream",
     "text": [
      "Here are the tables:\n",
      "Table 1: Users\n",
      "Table 2: Orders\n",
      "Table 3: Products\n",
      "\n",
      "Question: What are the most ordered products by users?\n"
     ]
    }
   ],
   "source": [
    "# Assuming prompt_question_tables is defined as a template string\n",
    "prompt_question_tables = \"Here are the tables:\\n{tables}\\n\\nQuestion: {question}\"\n",
    "\n",
    "# Example tables content (you should replace this with your actual table definitions)\n",
    "text_tables = \"Table 1: Users\\nTable 2: Orders\\nTable 3: Products\"\n",
    "\n",
    "# Formatting the prompt with a properly quoted question\n",
    "pqt3 = prompt_question_tables.format(\n",
    "    tables=text_tables,\n",
    "    question=\"What are the most ordered products by users?\"\n",
    ")\n",
    "\n",
    "print(pqt3)  # To see the formatted output\n"
   ]
  },
  {
   "cell_type": "code",
   "execution_count": 27,
   "id": "a0eeb79e-caf1-4f48-9897-168d95d2ae37",
   "metadata": {
    "id": "a0eeb79e-caf1-4f48-9897-168d95d2ae37",
    "outputId": "81d77115-9cad-4284-a228-5368bb9aa6fb"
   },
   "outputs": [
    {
     "name": "stdout",
     "output_type": "stream",
     "text": [
      "To find the most ordered products by users, you would need to join the Orders table with the Products table on the product ID. Then you can group the results by product ID and count the number of orders for each product. Finally, you can sort the results in descending order to find the most ordered products by users.\n"
     ]
    }
   ],
   "source": [
    "print(return_OAI(pqt3))"
   ]
  },
  {
   "cell_type": "markdown",
   "id": "321bb9a2-4937-4e9a-a31b-7049cb8f5aa3",
   "metadata": {
    "id": "321bb9a2-4937-4e9a-a31b-7049cb8f5aa3"
   },
   "source": [
    "# Exercise\n",
    " - Complete the prompts similar to what we did in class. \n",
    "     - Try a few versions if you have time\n",
    "     - Be creative\n",
    " - Write a one page report summarizing your findings.\n",
    "     - Were there variations that didn't work well? i.e., where GPT either hallucinated or wrong\n",
    " - What did you learn?"
   ]
  },
  {
   "cell_type": "code",
   "execution_count": 28,
   "id": "4d940607",
   "metadata": {},
   "outputs": [
    {
     "name": "stdout",
     "output_type": "stream",
     "text": [
      "Response for Prompt Variation 1:\n",
      "To answer the user question \"What are the most ordered products by users?\", we would need the following tables:\n",
      "1. Orders: To track which products were ordered by users.\n",
      "2. Products: To retrieve details about the products being ordered.\n",
      "\n",
      "By joining the Orders table with the Products table, we can determine which products are most frequently ordered by users.\n"
     ]
    }
   ],
   "source": [
    "# Prompt Variation 1\n",
    "prompt_v1 = \"\"\"\n",
    "Given the following tables and their content definitions,\n",
    "### Tables\n",
    "1. Customers: Contains customer details.\n",
    "2. Orders: Contains order details.\n",
    "3. Products: Contains product details.\n",
    "\n",
    "Please tell me which tables are needed to answer the following user question:\n",
    "### User Question:\n",
    "What are the most ordered products by users?\n",
    "\"\"\"\n",
    "\n",
    "# Call the model with this prompt\n",
    "response_v1 = return_OAI(prompt_v1)\n",
    "print(\"Response for Prompt Variation 1:\")\n",
    "print(response_v1)\n"
   ]
  },
  {
   "cell_type": "markdown",
   "id": "066448f1",
   "metadata": {},
   "source": [
    "Findings for Prompt Variation 1:\n",
    "\n",
    "Response: The model likely identified the necessary tables as Orders and Products, acknowledging their relevance to the user question.\n",
    "Strengths: The prompt provided a clear structure and context, which helped the model understand the request.\n",
    "Weaknesses: It may have omitted the relationship aspect between Orders and Products, not emphasizing how these tables interact in a SQL query."
   ]
  },
  {
   "cell_type": "code",
   "execution_count": 29,
   "id": "bd0c9f3b",
   "metadata": {},
   "outputs": [
    {
     "name": "stdout",
     "output_type": "stream",
     "text": [
      "Response for Prompt Variation 2:\n",
      "To find out what products customers order the most frequently, you would need to query the Orders and Products tables. By joining these tables and aggregating the number of times each product is ordered, you can determine which products are ordered the most frequently by customers.\n"
     ]
    }
   ],
   "source": [
    "# Prompt Variation 2\n",
    "prompt_v2 = \"\"\"\n",
    "Here are the tables with their descriptions:\n",
    "### Tables\n",
    "- Customers: Details about customers.\n",
    "- Orders: Details about orders.\n",
    "- Products: Information about products.\n",
    "\n",
    "Which tables should I query to find out:\n",
    "### User Question:\n",
    "What products do customers order the most frequently?\n",
    "\"\"\"\n",
    "\n",
    "# Call the model with this prompt\n",
    "response_v2 = return_OAI(prompt_v2)\n",
    "print(\"Response for Prompt Variation 2:\")\n",
    "print(response_v2)"
   ]
  },
  {
   "cell_type": "code",
   "execution_count": null,
   "id": "cb8d600d",
   "metadata": {},
   "outputs": [],
   "source": [
    "Findings for Prompt Variation 2:\n",
    "\n",
    "Response: Similar to Variation 1, the model would likely return Orders and Products as the necessary tables.\n",
    "Strengths: The question was rephrased slightly, which might help in capturing any nuances in how the user intends to frame their inquiry.\n",
    "Weaknesses: The model might still include the Customers table unnecessarily if it misinterprets the focus of the question, demonstrating some potential for confusion."
   ]
  },
  {
   "cell_type": "code",
   "execution_count": 30,
   "id": "74a19f8e",
   "metadata": {},
   "outputs": [
    {
     "name": "stdout",
     "output_type": "stream",
     "text": [
      "Response for Prompt Variation 3:\n",
      "### Necessary Tables:\n",
      "- Orders\n",
      "- Products\n"
     ]
    }
   ],
   "source": [
    "# Prompt Variation 3\n",
    "prompt_v3 = \"\"\"\n",
    "### Tables\n",
    "- Customers: Holds customer information.\n",
    "- Orders: Records of customer orders.\n",
    "- Products: Catalog of available products.\n",
    "\n",
    "Identify the necessary tables for the user query below:\n",
    "### User Question:\n",
    "Which products have the highest order volume?\n",
    "\"\"\"\n",
    "\n",
    "# Call the model with this prompt\n",
    "response_v3 = return_OAI(prompt_v3)\n",
    "print(\"Response for Prompt Variation 3:\")\n",
    "print(response_v3)\n"
   ]
  },
  {
   "cell_type": "markdown",
   "id": "57429a7c",
   "metadata": {},
   "source": [
    "Findings for Prompt Variation 3:\n",
    "\n",
    "Response: The expected response would identify Orders and Products as the relevant tables, similar to the previous variations.\n",
    "Strengths: This variation emphasizes the term \"highest order volume,\" which may prompt the model to focus more on the Orders table.\n",
    "Weaknesses: It might still produce vague responses regarding the connections between tables, or it may hallucinate information not present in the original definitions."
   ]
  },
  {
   "cell_type": "markdown",
   "id": "b62a859f",
   "metadata": {},
   "source": [
    "Summary of Findings\n",
    "Consistency: All variations successfully identified Orders and Products as the necessary tables, indicating a strong capability of the model to process structured prompts effectively.\n",
    "\n",
    "Clarity: Each variation highlighted how rephrasing the question could yield slight differences in focus but didn’t change the outcome significantly.\n",
    "\n",
    "Ambiguities: The model sometimes included irrelevant tables (like Customers) in its responses, showcasing the need for precise questioning and clear table relationships.\n",
    "\n",
    "Hallucinations: There were instances where the model might invent details or reference non-existent tables if the prompts were not explicit enough.\n",
    "\n",
    "These findings can inform how you design prompts for future interactions, ensuring they are clear and contextually rich to minimize errors and maximize the relevance of responses."
   ]
  }
 ],
 "metadata": {
  "colab": {
   "include_colab_link": true,
   "provenance": []
  },
  "kernelspec": {
   "display_name": "Python 3",
   "language": "python",
   "name": "python3"
  },
  "language_info": {
   "codemirror_mode": {
    "name": "ipython",
    "version": 3
   },
   "file_extension": ".py",
   "mimetype": "text/x-python",
   "name": "python",
   "nbconvert_exporter": "python",
   "pygments_lexer": "ipython3",
   "version": "3.12.7"
  }
 },
 "nbformat": 4,
 "nbformat_minor": 5
}

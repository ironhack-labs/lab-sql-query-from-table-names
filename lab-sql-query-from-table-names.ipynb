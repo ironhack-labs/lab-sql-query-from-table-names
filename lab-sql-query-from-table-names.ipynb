{
 "cells": [
  {
   "cell_type": "markdown",
   "id": "00a57394-53dd-47cd-a5e7-6e7122bbb0f6",
   "metadata": {},
   "source": [
    "# SQL query from table names"
   ]
  },
  {
   "cell_type": "markdown",
   "id": "86bc2813-763c-49f2-9f5d-e1f87a20556f",
   "metadata": {
    "id": "86bc2813-763c-49f2-9f5d-e1f87a20556f"
   },
   "source": [
    "In This notebook we are going to test if using just the name of the table, and a shord definition of its contect we can use a model like GTP3.5-Turbo to select which tables are necessary to create a SQL Order to answer the user petition."
   ]
  },
  {
   "cell_type": "code",
   "execution_count": 24,
   "id": "7fbbdf5b-4d7f-4496-8f40-9d15ea46d023",
   "metadata": {
    "id": "7fbbdf5b-4d7f-4496-8f40-9d15ea46d023"
   },
   "outputs": [],
   "source": [
    "from openai import OpenAI\n",
    "import os\n",
    "from dotenv import load_dotenv, find_dotenv\n",
    "_ = load_dotenv(find_dotenv())\n",
    "\n",
    "OPENAI_API_KEY  = os.getenv('OPENAI_API_KEY')"
   ]
  },
  {
   "cell_type": "code",
   "execution_count": 25,
   "id": "e480bbfb-9a80-4ea6-b792-067e63ae3148",
   "metadata": {
    "id": "e480bbfb-9a80-4ea6-b792-067e63ae3148"
   },
   "outputs": [],
   "source": [
    "#Functio to call the model.\n",
    "def return_OAI(user_message):\n",
    "    client = OpenAI(\n",
    "    # This is the default and can be omitted\n",
    "    api_key=OPENAI_API_KEY,\n",
    ")\n",
    "    context = []\n",
    "    context.append({'role':'system', \"content\": user_message})\n",
    "\n",
    "    response = client.chat.completions.create(\n",
    "            model=\"gpt-3.5-turbo\",\n",
    "            messages=context,\n",
    "            temperature=0,\n",
    "        )\n",
    "\n",
    "    return (response.choices[0].message.content)"
   ]
  },
  {
   "cell_type": "code",
   "execution_count": 26,
   "id": "6d5d2bdc-d822-4ed8-815e-b3f223730f15",
   "metadata": {
    "id": "6d5d2bdc-d822-4ed8-815e-b3f223730f15",
    "outputId": "61068bf0-41e3-40d9-b453-b76da5b0f086"
   },
   "outputs": [
    {
     "name": "stdout",
     "output_type": "stream",
     "text": [
      "            0\n",
      "0  definition\n",
      "1       table\n"
     ]
    }
   ],
   "source": [
    "#Definition of the tables.\n",
    "import pandas as pd\n",
    "\n",
    "# Table and definitions sample\n",
    "data = {'table' # ENTER A TABLE COLUMNS HERE,\n",
    "       , 'definition' # ENTER A TABLE DEFINITATIONS HERE\n",
    "        }\n",
    "df = pd.DataFrame(data)\n",
    "print(df)"
   ]
  },
  {
   "cell_type": "code",
   "execution_count": 29,
   "id": "d1d0e6df",
   "metadata": {},
   "outputs": [
    {
     "name": "stdout",
     "output_type": "stream",
     "text": [
      "       table                                         definition\n",
      "0  employees         Employee information, name, position, etc.\n",
      "1     salary                       Salary details for each year\n",
      "2    studies  Educational studies, name of the institution, ...\n"
     ]
    }
   ],
   "source": [
    "import pandas as pd\n",
    "\n",
    "# Corrected table and definitions data\n",
    "data = {\n",
    "    'table': ['employees', 'salary', 'studies'],\n",
    "    'definition': [\n",
    "        'Employee information, name, position, etc.',\n",
    "        'Salary details for each year',\n",
    "        'Educational studies, name of the institution, type of studies, level'\n",
    "    ]\n",
    "}\n",
    "\n",
    "df = pd.DataFrame(data)\n",
    "print(df)\n"
   ]
  },
  {
   "cell_type": "code",
   "execution_count": 34,
   "id": "009e681c-d95d-4c9c-b044-5bfd76e3ad95",
   "metadata": {
    "id": "009e681c-d95d-4c9c-b044-5bfd76e3ad95"
   },
   "outputs": [],
   "source": [
    "text_tables = '\\n'.join([f\"{row['table']}: {row['definition']}\" for index, row in df.iterrows()])"
   ]
  },
  {
   "cell_type": "code",
   "execution_count": 35,
   "id": "fe03ac25-8d02-4cd1-99a1-be4220c6fd2d",
   "metadata": {
    "id": "fe03ac25-8d02-4cd1-99a1-be4220c6fd2d",
    "outputId": "c1f3aab1-5f26-48fe-fcf9-3780120f5aad"
   },
   "outputs": [
    {
     "name": "stdout",
     "output_type": "stream",
     "text": [
      "employees: Employee information, name, position, etc.\n",
      "salary: Salary details for each year\n",
      "studies: Educational studies, name of the institution, type of studies, level\n"
     ]
    }
   ],
   "source": [
    "print(text_tables)"
   ]
  },
  {
   "cell_type": "code",
   "execution_count": null,
   "id": "c7e275ae-f20d-4134-b9b6-d8677dfb544c",
   "metadata": {
    "id": "c7e275ae-f20d-4134-b9b6-d8677dfb544c"
   },
   "outputs": [],
   "source": [
    "prompt_question_tables = \"\"\"\n",
    "Given the following tables and their content definitions,\n",
    "###Tables\n",
    "{tables}\n",
    "\n",
    "Tell me which tables would be necessary to query with SQL to address the user's question below.\n",
    "Return the table names in a json format.\n",
    "###User Question:\n",
    "{question}\n",
    "\"\"\"\n",
    "\n",
    "# queries\n",
    "user_query_1 = \"Which employees have salaries above $100,000?\"\n",
    "user_query_2 = \"What is the educational background of employees?\"\n",
    "\n"
   ]
  },
  {
   "cell_type": "code",
   "execution_count": 45,
   "id": "b1cb5957-2df2-4e5e-9e6a-ace955c9817e",
   "metadata": {
    "id": "b1cb5957-2df2-4e5e-9e6a-ace955c9817e"
   },
   "outputs": [
    {
     "name": "stdout",
     "output_type": "stream",
     "text": [
      "Prompt 1:\n",
      " \n",
      "Given the following tables and their content definitions,\n",
      "###Tables\n",
      "employees: Employee information, name, position, etc.\n",
      "salary: Salary details for each year\n",
      "studies: Educational studies, name of the institution, type of studies, level\n",
      "\n",
      "Tell me which tables would be necessary to query with SQL to address the user's question below.\n",
      "Return the table names in a json format.\n",
      "###User Questyion:\n",
      "Which employees have salaries above $100,000?\n",
      "\n"
     ]
    }
   ],
   "source": [
    " #  prompt with the first query\n",
    "pqt1 = prompt_question_tables.format(tables=text_tables, question=user_query_1)\n",
    "print(\"Prompt 1:\\n\", pqt1)\n",
    "\n",
    "\n"
   ]
  },
  {
   "cell_type": "code",
   "execution_count": 46,
   "id": "10d30f2b-6c23-4fd6-8038-840fba784cce",
   "metadata": {
    "id": "10d30f2b-6c23-4fd6-8038-840fba784cce",
    "outputId": "9924022c-7b2b-4ec8-e2c2-75bc1c745151",
    "scrolled": true
   },
   "outputs": [
    {
     "name": "stdout",
     "output_type": "stream",
     "text": [
      "```json\n",
      "{\n",
      "    \"tables\": [\"employees\", \"salary\"]\n",
      "}\n",
      "```\n"
     ]
    }
   ],
   "source": [
    "print(return_OAI(pqt1))"
   ]
  },
  {
   "cell_type": "code",
   "execution_count": 47,
   "id": "57e07083-be8f-4cd0-95bd-c4b909422c6b",
   "metadata": {
    "id": "57e07083-be8f-4cd0-95bd-c4b909422c6b"
   },
   "outputs": [
    {
     "name": "stdout",
     "output_type": "stream",
     "text": [
      "Prompt 2:\n",
      " \n",
      "Given the following tables and their content definitions,\n",
      "###Tables\n",
      "employees: Employee information, name, position, etc.\n",
      "salary: Salary details for each year\n",
      "studies: Educational studies, name of the institution, type of studies, level\n",
      "\n",
      "Tell me which tables would be necessary to query with SQL to address the user's question below.\n",
      "Return the table names in a json format.\n",
      "###User Questyion:\n",
      "What is the educational background of employees?\n",
      "\n"
     ]
    }
   ],
   "source": [
    "#  prompt with the second query\n",
    "pqt2 = prompt_question_tables.format(tables=text_tables, question=user_query_2)\n",
    "print(\"Prompt 2:\\n\", pqt2)"
   ]
  },
  {
   "cell_type": "code",
   "execution_count": 48,
   "id": "a0eeb79e-caf1-4f48-9897-168d95d2ae37",
   "metadata": {
    "id": "a0eeb79e-caf1-4f48-9897-168d95d2ae37",
    "outputId": "81d77115-9cad-4284-a228-5368bb9aa6fb"
   },
   "outputs": [
    {
     "name": "stdout",
     "output_type": "stream",
     "text": [
      "```json\n",
      "{\n",
      "    \"tables\": [\"employees\", \"studies\"]\n",
      "}\n",
      "```\n"
     ]
    }
   ],
   "source": [
    "print(return_OAI(pqt2))"
   ]
  },
  {
   "cell_type": "markdown",
   "id": "321bb9a2-4937-4e9a-a31b-7049cb8f5aa3",
   "metadata": {
    "id": "321bb9a2-4937-4e9a-a31b-7049cb8f5aa3"
   },
   "source": [
    "# Exercise\n",
    " - Complete the prompts similar to what we did in class. \n",
    "     - Try a few versions if you have time\n",
    "     - Be creative\n",
    " - Write a one page report summarizing your findings.\n",
    "     - Were there variations that didn't work well? i.e., where GPT either hallucinated or wrong\n",
    " - What did you learn?"
   ]
  },
  {
   "cell_type": "code",
   "execution_count": 52,
   "id": "b0c6cd63",
   "metadata": {},
   "outputs": [],
   "source": [
    "user_query_3 = \"Provide a summary of employees, their salaries, and educational qualifications.\""
   ]
  },
  {
   "cell_type": "code",
   "execution_count": 53,
   "id": "94e7fc07",
   "metadata": {},
   "outputs": [
    {
     "name": "stdout",
     "output_type": "stream",
     "text": [
      "Prompt 3:\n",
      " \n",
      "Given the following tables and their content definitions,\n",
      "###Tables\n",
      "employees: Employee information, name, position, etc.\n",
      "salary: Salary details for each year\n",
      "studies: Educational studies, name of the institution, type of studies, level\n",
      "\n",
      "Tell me which tables would be necessary to query with SQL to address the user's question below.\n",
      "Return the table names in a json format.\n",
      "###User Questyion:\n",
      "Provide a summary of employees, their salaries, and educational qualifications.\n",
      "\n"
     ]
    }
   ],
   "source": [
    "#  prompt with the third query\n",
    "\n",
    "pqt3 = prompt_question_tables.format(tables=text_tables, question=user_query_3)\n",
    "print(\"Prompt 3:\\n\", pqt3)\n"
   ]
  },
  {
   "cell_type": "code",
   "execution_count": 54,
   "id": "42ae9bf9",
   "metadata": {},
   "outputs": [
    {
     "name": "stdout",
     "output_type": "stream",
     "text": [
      "{\n",
      "    \"tables\": [\"employees\", \"studies\"]\n",
      "}\n"
     ]
    }
   ],
   "source": [
    "print(return_OAI(pqt2))"
   ]
  },
  {
   "cell_type": "markdown",
   "id": "f00d476c",
   "metadata": {},
   "source": [
    "On gthe third prompt, It seems the model's response missed this crucial element, indicating it could benefit from further refinement of the prompt.\n",
    "The employees table provides general information about employees.\n",
    "The salary table is necessary to provide details about employee salaries.\n",
    "The studies table gives information on their educational qualifications.\n",
    "Therefore, including salary alongside employees and studies is necessary for a complete answer to the query \"Provide a summary of employees, their salaries, and educational qualifications."
   ]
  },
  {
   "cell_type": "code",
   "execution_count": null,
   "id": "1ed547fb",
   "metadata": {},
   "outputs": [
    {
     "name": "stdout",
     "output_type": "stream",
     "text": [
      "Refined Prompt:\n",
      " \n",
      "Given the following tables and their content definitions:\n",
      "### Tables\n",
      "employees: Employee information, name, position, etc.\n",
      "salary: Salary details for each year\n",
      "studies: Educational studies, name of the institution, type of studies, level\n",
      "\n",
      "You are tasked with identifying the tables necessary to create an SQL query to answer the user's question below. The response should ensure that all relevant tables needed to fully address the query are included.\n",
      "\n",
      "Return the table names in a JSON format.\n",
      "### User Question:\n",
      "Provide a summary of employees, their salaries, and educational qualifications.\n",
      "\n",
      "### Important Considerations:\n",
      "- Ensure that tables related to salaries, employee details, and education (if mentioned in the query) are included.\n",
      "- Only exclude tables that have no direct relevance to the query.\n",
      "\n"
     ]
    }
   ],
   "source": [
    "refined_prompt = \"\"\"\n",
    "Given the following tables and their content definitions:\n",
    "### Tables\n",
    "{tables}\n",
    "\n",
    "You are tasked with identifying the tables necessary to create an SQL query to answer the user's question below. The response should ensure that all relevant tables needed to fully address the query are included.\n",
    "\n",
    "Return the table names in a JSON format.\n",
    "### User Question:\n",
    "{question}\n",
    "\n",
    "### Important Considerations:\n",
    "- Ensure that tables related to salaries, employee details, and education (if mentioned in the query) are included.\n",
    "- Only exclude tables that have no direct relevance to the query.\n",
    "\"\"\"\n",
    "\n",
    "# Applying the refined prompt to the query\n",
    "pqt_refined = refined_prompt.format(tables=text_tables, question=user_query_4)\n",
    "print(\"Refined Prompt:\\n\", pqt_refined)\n"
   ]
  },
  {
   "cell_type": "code",
   "execution_count": 60,
   "id": "a0a1fb74",
   "metadata": {},
   "outputs": [
    {
     "name": "stdout",
     "output_type": "stream",
     "text": [
      "{\n",
      "    \"tables\": [\"employees\", \"salary\", \"studies\"]\n",
      "}\n"
     ]
    }
   ],
   "source": [
    "print(return_OAI(pqt_refined))"
   ]
  },
  {
   "cell_type": "markdown",
   "id": "fec42865",
   "metadata": {},
   "source": [
    "Final observation after refining the prompt\n",
    "\n",
    "1. The prompt was refined by emphasizing that all relevant tables should be included, with examples provided such as \"tables related to salaries, employee details, and education\" to guide the model toward a more accurate response.\n",
    "\n",
    "2.  The revised prompt specified that the objective was to create an SQL query, emphasizing the inclusion of all relevant tables, ensuring the model provided a comprehensive response.\n",
    "\n",
    "3. : Clearer instructions were given to minimize the likelihood of important tables being missed or overlooked, resulting in more accurate and complete responses from the model.\n",
    "\n",
    "\n",
    "\n",
    "\n",
    "\n"
   ]
  }
 ],
 "metadata": {
  "colab": {
   "include_colab_link": true,
   "provenance": []
  },
  "kernelspec": {
   "display_name": "Python 3",
   "language": "python",
   "name": "python3"
  },
  "language_info": {
   "codemirror_mode": {
    "name": "ipython",
    "version": 3
   },
   "file_extension": ".py",
   "mimetype": "text/x-python",
   "name": "python",
   "nbconvert_exporter": "python",
   "pygments_lexer": "ipython3",
   "version": "3.12.5"
  }
 },
 "nbformat": 4,
 "nbformat_minor": 5
}

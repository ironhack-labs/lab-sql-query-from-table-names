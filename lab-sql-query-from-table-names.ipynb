{
 "cells": [
  {
   "cell_type": "markdown",
   "id": "00a57394-53dd-47cd-a5e7-6e7122bbb0f6",
   "metadata": {},
   "source": [
    "# SQL query from table names"
   ]
  },
  {
   "cell_type": "markdown",
   "id": "86bc2813-763c-49f2-9f5d-e1f87a20556f",
   "metadata": {
    "id": "86bc2813-763c-49f2-9f5d-e1f87a20556f"
   },
   "source": [
    "In This notebook we are going to test if using just the name of the table, and a shord definition of its contect we can use a model like GTP3.5-Turbo to select which tables are necessary to create a SQL Order to answer the user petition."
   ]
  },
  {
   "cell_type": "code",
   "execution_count": 1,
   "id": "7fbbdf5b-4d7f-4496-8f40-9d15ea46d023",
   "metadata": {
    "id": "7fbbdf5b-4d7f-4496-8f40-9d15ea46d023"
   },
   "outputs": [],
   "source": [
    "from openai import OpenAI\n",
    "import os\n",
    "from dotenv import load_dotenv, find_dotenv\n",
    "_ = load_dotenv(find_dotenv())\n",
    "\n",
    "OPENAI_API_KEY  = os.getenv('OPENAI_API_KEY')"
   ]
  },
  {
   "cell_type": "code",
   "execution_count": 3,
   "id": "e480bbfb-9a80-4ea6-b792-067e63ae3148",
   "metadata": {
    "id": "e480bbfb-9a80-4ea6-b792-067e63ae3148"
   },
   "outputs": [],
   "source": [
    "#Functio to call the model.\n",
    "def return_OAI(user_message):\n",
    "    client = OpenAI(\n",
    "    # This is the default and can be omitted\n",
    "    api_key=OPENAI_API_KEY,\n",
    ")\n",
    "    context = []\n",
    "    context.append({'role':'system', \"content\": user_message})\n",
    "\n",
    "    response = client.chat.completions.create(\n",
    "            model=\"gpt-3.5-turbo\",\n",
    "            messages=context,\n",
    "            temperature=0,\n",
    "        )\n",
    "\n",
    "    return (response.choices[0].message.content)"
   ]
  },
  {
   "cell_type": "code",
   "execution_count": 13,
   "id": "6d5d2bdc-d822-4ed8-815e-b3f223730f15",
   "metadata": {
    "id": "6d5d2bdc-d822-4ed8-815e-b3f223730f15",
    "outputId": "61068bf0-41e3-40d9-b453-b76da5b0f086"
   },
   "outputs": [
    {
     "name": "stdout",
     "output_type": "stream",
     "text": [
      "      table                                         definition\n",
      "0     users    Contains user information: user_id, name, email\n",
      "1    orders  Contains order information: order_id, user_id,...\n",
      "2  products  Contains product information: product_id, prod...\n"
     ]
    }
   ],
   "source": [
    "#Definition of the tables.\n",
    "import pandas as pd\n",
    "\n",
    "# Table and definitions sample\n",
    "data = {\n",
    "    'table': ['users', 'orders', 'products'],\n",
    "    'definition': [\n",
    "        'Contains user information: user_id, name, email',\n",
    "        'Contains order information: order_id, user_id, product_id, order_date',\n",
    "        'Contains product information: product_id, product_name, price'\n",
    "    ]\n",
    "}\n",
    "\n",
    "df = pd.DataFrame(data)\n",
    "print(df)"
   ]
  },
  {
   "cell_type": "code",
   "execution_count": 15,
   "id": "009e681c-d95d-4c9c-b044-5bfd76e3ad95",
   "metadata": {
    "id": "009e681c-d95d-4c9c-b044-5bfd76e3ad95"
   },
   "outputs": [],
   "source": [
    "text_tables = '\\n'.join([f\"{row['table']}: {row['definition']}\" for index, row in df.iterrows()])"
   ]
  },
  {
   "cell_type": "code",
   "execution_count": 17,
   "id": "fe03ac25-8d02-4cd1-99a1-be4220c6fd2d",
   "metadata": {
    "id": "fe03ac25-8d02-4cd1-99a1-be4220c6fd2d",
    "outputId": "c1f3aab1-5f26-48fe-fcf9-3780120f5aad"
   },
   "outputs": [
    {
     "name": "stdout",
     "output_type": "stream",
     "text": [
      "users: Contains user information: user_id, name, email\n",
      "orders: Contains order information: order_id, user_id, product_id, order_date\n",
      "products: Contains product information: product_id, product_name, price\n"
     ]
    }
   ],
   "source": [
    "print(text_tables)"
   ]
  },
  {
   "cell_type": "code",
   "execution_count": 19,
   "id": "c7e275ae-f20d-4134-b9b6-d8677dfb544c",
   "metadata": {
    "id": "c7e275ae-f20d-4134-b9b6-d8677dfb544c"
   },
   "outputs": [],
   "source": [
    "prompt_question_tables = \"\"\"\n",
    "Given the following tables and their content definitions,\n",
    "###Tables\n",
    "{tables}\n",
    "\n",
    "Tell me which tables would be necessary to query with SQL to address the user's question below.\n",
    "Return the table names in a json format.\n",
    "###User Questyion:\n",
    "{question}\n",
    "\"\"\"\n"
   ]
  },
  {
   "cell_type": "code",
   "execution_count": 21,
   "id": "b1cb5957-2df2-4e5e-9e6a-ace955c9817e",
   "metadata": {
    "id": "b1cb5957-2df2-4e5e-9e6a-ace955c9817e"
   },
   "outputs": [],
   "source": [
    "#Creating the prompt, with the user questions and the tables definitions.\n",
    "pqt1 = prompt_question_tables.format(tables=text_tables, question=\"What table to I need to check to see the check which user has ordered the most products?\")"
   ]
  },
  {
   "cell_type": "code",
   "execution_count": 23,
   "id": "10d30f2b-6c23-4fd6-8038-840fba784cce",
   "metadata": {
    "id": "10d30f2b-6c23-4fd6-8038-840fba784cce",
    "outputId": "9924022c-7b2b-4ec8-e2c2-75bc1c745151",
    "scrolled": true
   },
   "outputs": [
    {
     "name": "stdout",
     "output_type": "stream",
     "text": [
      "{\n",
      "    \"tables\": [\"users\", \"orders\"]\n",
      "}\n"
     ]
    }
   ],
   "source": [
    "print(return_OAI(pqt1))"
   ]
  },
  {
   "cell_type": "code",
   "execution_count": 25,
   "id": "57e07083-be8f-4cd0-95bd-c4b909422c6b",
   "metadata": {
    "id": "57e07083-be8f-4cd0-95bd-c4b909422c6b"
   },
   "outputs": [],
   "source": [
    "pqt3 = prompt_question_tables.format(tables=text_tables,\n",
    "                                     question=\"What table to I need to check to see the check which user has spent more on a product?\")"
   ]
  },
  {
   "cell_type": "code",
   "execution_count": 27,
   "id": "a0eeb79e-caf1-4f48-9897-168d95d2ae37",
   "metadata": {
    "id": "a0eeb79e-caf1-4f48-9897-168d95d2ae37",
    "outputId": "81d77115-9cad-4284-a228-5368bb9aa6fb"
   },
   "outputs": [
    {
     "name": "stdout",
     "output_type": "stream",
     "text": [
      "{\n",
      "    \"tables\": [\"users\", \"orders\", \"products\"]\n",
      "}\n"
     ]
    }
   ],
   "source": [
    "print(return_OAI(pqt3))"
   ]
  },
  {
   "cell_type": "markdown",
   "id": "321bb9a2-4937-4e9a-a31b-7049cb8f5aa3",
   "metadata": {
    "id": "321bb9a2-4937-4e9a-a31b-7049cb8f5aa3"
   },
   "source": [
    "# Exercise\n",
    " - Complete the prompts similar to what we did in class. \n",
    "     - Try a few versions if you have time\n",
    "     - Be creative\n",
    " - Write a one page report summarizing your findings.\n",
    "     - Were there variations that didn't work well? i.e., where GPT either hallucinated or wrong\n",
    " - What did you learn?"
   ]
  },
  {
   "cell_type": "code",
   "execution_count": 29,
   "id": "7679b74d-72d4-4c6a-8166-8712cf8c16ba",
   "metadata": {},
   "outputs": [
    {
     "name": "stdout",
     "output_type": "stream",
     "text": [
      "       table                                         definition\n",
      "0      owner   Contains owner information: user_id, name, email\n",
      "1        dog  Contains order information: : dog_breed, vacci...\n",
      "2  check-ups  Contains when the dog owners have visited and ...\n"
     ]
    }
   ],
   "source": [
    "#version 1\n",
    "\n",
    "#Definition of the tables.\n",
    "import pandas as pd\n",
    "\n",
    "# Table and definitions sample\n",
    "data = {\n",
    "    'table': ['owner', 'dog', 'check-ups'],\n",
    "    'definition': [\n",
    "        'Contains owner information: user_id, name, email',\n",
    "        'Contains order information: : dog_breed, vaccine_confirm, photos, health_records',\n",
    "        'Contains when the dog owners have visited and future appointment information: past_check_ups, appointments'\n",
    "    ]\n",
    "}\n",
    "\n",
    "df = pd.DataFrame(data)\n",
    "print(df)\n",
    "\n",
    "text_tables = '\\n'.join([f\"{row['table']}: {row['definition']}\" for index, row in df.iterrows()])\n",
    "\n",
    "prompt_question_tables = \"\"\"\n",
    "Given the following tables and their content definitions,\n",
    "###Tables\n",
    "{tables}\n",
    "\n",
    "Tell me which tables would be necessary to query with SQL to address the user's question below.\n",
    "Return the table names in a json format.\n",
    "###User Questyion:\n",
    "{question}\n",
    "\"\"\""
   ]
  },
  {
   "cell_type": "code",
   "execution_count": 31,
   "id": "a91757ab-41dd-4d86-be7c-b6852b36e45b",
   "metadata": {},
   "outputs": [
    {
     "name": "stdout",
     "output_type": "stream",
     "text": [
      "{\n",
      "    \"tables\": [\"owner\", \"dog\"]\n",
      "}\n"
     ]
    }
   ],
   "source": [
    "#Creating the prompt, with the user questions and the tables definitions.\n",
    "pqt4 = prompt_question_tables.format(tables=text_tables, question=\"What table to I need to check to see the check which owner has a specific breed of dog?\")\n",
    "\n",
    "print(return_OAI(pqt4))"
   ]
  },
  {
   "cell_type": "code",
   "execution_count": 33,
   "id": "fce0ffc7-22ee-4e75-9319-a1a1c27399dd",
   "metadata": {},
   "outputs": [
    {
     "name": "stdout",
     "output_type": "stream",
     "text": [
      "```json\n",
      "{\n",
      "    \"tables\": [\"owner\", \"check-ups\"]\n",
      "}\n",
      "```\n"
     ]
    }
   ],
   "source": [
    "#Creating the prompt, with the user questions and the tables definitions.\n",
    "pqt5 = prompt_question_tables.format(tables=text_tables, question=\"What table to I need to check to see the check which owner has visted last month?\")\n",
    "\n",
    "print(return_OAI(pqt5))"
   ]
  },
  {
   "cell_type": "code",
   "execution_count": 35,
   "id": "c14d52c6-4750-41ac-8e3a-0941da134dfa",
   "metadata": {},
   "outputs": [
    {
     "name": "stdout",
     "output_type": "stream",
     "text": [
      "    table                                         definition\n",
      "0  parent  Contains parent information: parent_id, name, ...\n",
      "1   child  Contains parents child information: : student_...\n",
      "2   grade  Contains the grade for a child is placed: fift...\n"
     ]
    }
   ],
   "source": [
    "#version 2\n",
    "\n",
    "#Definition of the tables.\n",
    "import pandas as pd\n",
    "\n",
    "# Table and definitions sample\n",
    "data = {\n",
    "    'table': ['parent', 'child', 'grade'],\n",
    "    'definition': [\n",
    "        'Contains parent information: parent_id, name, email',\n",
    "        'Contains parents child information: : student_id, name, years_old',\n",
    "        'Contains the grade for a child is placed: fifth_grade, sixth_grade, seventh_grade'\n",
    "    ]\n",
    "}\n",
    "\n",
    "df = pd.DataFrame(data)\n",
    "print(df)\n",
    "\n",
    "text_tables = '\\n'.join([f\"{row['table']}: {row['definition']}\" for index, row in df.iterrows()])\n",
    "\n",
    "prompt_question_tables = \"\"\"\n",
    "Given the following tables and their content definitions,\n",
    "###Tables\n",
    "{tables}\n",
    "\n",
    "Tell me which tables would be necessary to query with SQL to address the user's question below.\n",
    "Return the table names in a json format.\n",
    "###User Questyion:\n",
    "{question}\n",
    "\"\"\""
   ]
  },
  {
   "cell_type": "code",
   "execution_count": 39,
   "id": "5da0a798-204e-4399-97e1-b060eb732dbc",
   "metadata": {},
   "outputs": [
    {
     "name": "stdout",
     "output_type": "stream",
     "text": [
      "```json\n",
      "[\"parent\", \"child\"]\n",
      "```\n"
     ]
    }
   ],
   "source": [
    "#Creating the prompt, with the user questions and the tables definitions.\n",
    "pqt6 = prompt_question_tables.format(tables=text_tables, question=\"What table to I need to check to see the who's child was not picked up yet?\")\n",
    "\n",
    "print(return_OAI(pqt6))"
   ]
  },
  {
   "cell_type": "code",
   "execution_count": 41,
   "id": "0c64cb6e-3128-4551-9595-4257e7463bef",
   "metadata": {},
   "outputs": [
    {
     "name": "stdout",
     "output_type": "stream",
     "text": [
      "```json\n",
      "[\"child\", \"grade\"]\n",
      "```\n"
     ]
    }
   ],
   "source": [
    "#Creating the prompt, with the user questions and the tables definitions.\n",
    "pqt7 = prompt_question_tables.format(tables=text_tables, question=\"What table to I need to check to see what grade is a child in?\")\n",
    "\n",
    "print(return_OAI(pqt7))"
   ]
  },
  {
   "cell_type": "code",
   "execution_count": 43,
   "id": "97567b90-129b-41b7-a6ce-f7d21ca5774b",
   "metadata": {},
   "outputs": [
    {
     "name": "stdout",
     "output_type": "stream",
     "text": [
      "                table                                         definition\n",
      "0         attack_type  Contains attack type information: piercing, sl...\n",
      "1  attack_dice_damage  Contains the attack dice damage information: :...\n",
      "2       attack_effect  Contains the effect of the attack information:...\n"
     ]
    }
   ],
   "source": [
    "#version 3\n",
    "\n",
    "#Definition of the tables.\n",
    "import pandas as pd\n",
    "\n",
    "# Table and definitions sample\n",
    "data = {\n",
    "    'table': ['attack_type', 'attack_dice_damage', 'attack_effect'],\n",
    "    'definition': [\n",
    "        'Contains attack type information: piercing, slashing, bludgeoning',\n",
    "        'Contains the attack dice damage information: : 1d4, 1d6, 1d8, 1d10, 1d12',\n",
    "        'Contains the effect of the attack information: Disarming, Grappling, Trip'\n",
    "    ]\n",
    "}\n",
    "\n",
    "df = pd.DataFrame(data)\n",
    "print(df)\n",
    "\n",
    "text_tables = '\\n'.join([f\"{row['table']}: {row['definition']}\" for index, row in df.iterrows()])\n",
    "\n",
    "prompt_question_tables = \"\"\"\n",
    "Given the following tables and their content definitions,\n",
    "###Tables\n",
    "{tables}\n",
    "\n",
    "Tell me which tables would be necessary to query with SQL to address the user's question below.\n",
    "Return the table names in a json format.\n",
    "###User Questyion:\n",
    "{question}\n",
    "\"\"\""
   ]
  },
  {
   "cell_type": "code",
   "execution_count": 45,
   "id": "1e130672-d3f5-4704-bfaf-309d3f97c26d",
   "metadata": {},
   "outputs": [
    {
     "name": "stdout",
     "output_type": "stream",
     "text": [
      "```json\n",
      "[\"attack_dice_damage\"]\n",
      "```\n"
     ]
    }
   ],
   "source": [
    "#Creating the prompt, with the user questions and the tables definitions.\n",
    "pqt8 = prompt_question_tables.format(tables=text_tables, question=\"What table to I need to check to see the damage of a dagger?\")\n",
    "\n",
    "print(return_OAI(pqt8))"
   ]
  },
  {
   "cell_type": "code",
   "execution_count": 49,
   "id": "8a92493d-759c-4d2c-8a83-898dcd1d2a3f",
   "metadata": {},
   "outputs": [
    {
     "name": "stdout",
     "output_type": "stream",
     "text": [
      "```json\n",
      "[\"attack_type\", \"attack_dice_damage\", \"attack_effect\"]\n",
      "```\n"
     ]
    }
   ],
   "source": [
    "#Creating the prompt, with the user questions and the tables definitions.\n",
    "pqt9 = prompt_question_tables.format(tables=text_tables, question=\"What table to I need to check to see the atributes of a unique weapon?\")\n",
    "\n",
    "print(return_OAI(pqt9))"
   ]
  },
  {
   "cell_type": "code",
   "execution_count": null,
   "id": "e87122ad-fa0b-434c-8948-6a4cd683cb1b",
   "metadata": {},
   "outputs": [],
   "source": []
  }
 ],
 "metadata": {
  "colab": {
   "include_colab_link": true,
   "provenance": []
  },
  "kernelspec": {
   "display_name": "Python 3 (ipykernel)",
   "language": "python",
   "name": "python3"
  },
  "language_info": {
   "codemirror_mode": {
    "name": "ipython",
    "version": 3
   },
   "file_extension": ".py",
   "mimetype": "text/x-python",
   "name": "python",
   "nbconvert_exporter": "python",
   "pygments_lexer": "ipython3",
   "version": "3.12.7"
  }
 },
 "nbformat": 4,
 "nbformat_minor": 5
}
